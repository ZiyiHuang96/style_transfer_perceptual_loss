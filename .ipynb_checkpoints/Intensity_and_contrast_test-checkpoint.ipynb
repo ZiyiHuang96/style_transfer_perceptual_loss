{
 "cells": [
  {
   "cell_type": "code",
   "execution_count": 5,
   "metadata": {
    "colab": {
     "base_uri": "https://localhost:8080/"
    },
    "id": "39wZAx6MQc7_",
    "outputId": "f6d1568b-df35-43c9-de3f-6cbbe133d875"
   },
   "outputs": [
    {
     "name": "stdout",
     "output_type": "stream",
     "text": [
      "Requirement already satisfied: lpips in d:\\anaconda3\\lib\\site-packages (0.1.3)\n",
      "Note: you may need to restart the kernel to use updated packages.\n"
     ]
    }
   ],
   "source": [
    "pip install lpips"
   ]
  },
  {
   "cell_type": "code",
   "execution_count": 6,
   "metadata": {
    "colab": {
     "base_uri": "https://localhost:8080/",
     "height": 174,
     "referenced_widgets": [
      "915d70bf7cdf4bbbbfb4159cebf82c40",
      "fefeac13804646979f271708e6154420",
      "f2f003264f2e42669df29d64a6918135",
      "43ce3a2de2c0438ea2d382a1128c388e",
      "97b399c5dbd44cccb24529672e11a8e2",
      "0320a7407fc14044bf5b1d10ec711120",
      "46411c47f9e749508fd0cd5ec7fe8db6",
      "2078ced569f5460592651e5b7453b3f7"
     ]
    },
    "id": "C14JnDuzQe47",
    "outputId": "ce2b3b38-5ea2-4248-ce11-785db4db9a30"
   },
   "outputs": [
    {
     "name": "stdout",
     "output_type": "stream",
     "text": [
      "Setting up [LPIPS] perceptual loss: trunk [vgg], v[0.1], spatial [off]\n",
      "Loading model from: D:\\anaconda3\\lib\\site-packages\\lpips\\weights\\v0.1\\vgg.pth\n",
      "Perceptural loss{white, black): tensor([[[[0.4538]]]], grad_fn=<AddBackward0>) Perceptural loss{gray,black): tensor([[[[0.5390]]]], grad_fn=<AddBackward0>) Perceptural loss{white,gray): tensor([[[[0.4945]]]], grad_fn=<AddBackward0>)\n",
      "L2 loss{white, black): tensor(4.) L2 loss{gray,black): tensor(1.) L2 loss{white,gray): tensor(1.)\n"
     ]
    }
   ],
   "source": [
    "#Intensity experiment\n",
    "import lpips\n",
    "import numpy as np\n",
    "import torch\n",
    "\n",
    "\n",
    "use_gpu = False         # Whether to use GPU\n",
    "spatial = True         # Return a spatial map of perceptual distance.\n",
    "\n",
    "# Linearly calibrated models (LPIPS)\n",
    "loss_fn_vgg = lpips.LPIPS(net='vgg')\n",
    "\n",
    "if(use_gpu):\n",
    "    loss_fn.cuda()\n",
    "\n",
    "white = torch.ones([1,3,64,64])\n",
    "gray = torch.zeros([1,3,64,64])\n",
    "black = torch.ones([1,3,64,64])*-1\n",
    "#-1: back 0: Gray 1: white\n",
    "#Compute Perceptual loss\n",
    "d0 = loss_fn_vgg(white,black)\n",
    "d1 = loss_fn_vgg(gray,black)\n",
    "d3 = loss_fn_vgg(white,gray)\n",
    "print(\"Perceptural loss{white, black):\",d0,\"Perceptural loss{gray,black):\",d1,\"Perceptural loss{white,gray):\",d3)\n",
    "\n",
    "#Compute L2 loss\n",
    "loss = torch.nn.MSELoss()\n",
    "\n",
    "d0 = loss(white,black)\n",
    "d1 = loss(gray,black)\n",
    "d2 = loss(white,gray)\n",
    "print(\"L2 loss{white, black):\",d0,\"L2 loss{gray,black):\",d1,\"L2 loss{white,gray):\",d2)"
   ]
  },
  {
   "cell_type": "code",
   "execution_count": 7,
   "metadata": {
    "colab": {
     "base_uri": "https://localhost:8080/",
     "height": 167
    },
    "id": "wDRFeSUcQti8",
    "outputId": "95b6bcfe-cc43-4cdb-c352-2ba76947afa2"
   },
   "outputs": [
    {
     "data": {
      "text/plain": [
       "<matplotlib.image.AxesImage at 0x20ec34e2b20>"
      ]
     },
     "execution_count": 7,
     "metadata": {},
     "output_type": "execute_result"
    },
    {
     "data": {
      "image/png": "[encoded data removed]",
      "text/plain": [
       "<Figure size 432x288 with 3 Axes>"
      ]
     },
     "metadata": {
      "needs_background": "light"
     },
     "output_type": "display_data"
    }
   ],
   "source": [
    "#plot white/gray/black images\n",
    "black = (black+1)/2\n",
    "gray = (gray+1)/2\n",
    "white = (white+1)/2\n",
    "\n",
    "import matplotlib.pyplot as plt\n",
    "plt.subplot(131)\n",
    "plt.imshow(black[0,:,:,:].permute(1, 2, 0)  )\n",
    "plt.subplot(132)\n",
    "plt.imshow(gray[0,:,:,:].permute(1, 2, 0)  )\n",
    "plt.subplot(133)\n",
    "plt.imshow(white[0,:,:,:].permute(1, 2, 0)  )"
   ]
  },
  {
   "cell_type": "code",
   "execution_count": 8,
   "metadata": {
    "colab": {
     "base_uri": "https://localhost:8080/"
    },
    "id": "vgD0TPy9UlfD",
    "outputId": "88518ffa-43c2-45cc-fe9a-a95d3339b919"
   },
   "outputs": [
    {
     "ename": "ModuleNotFoundError",
     "evalue": "No module named 'cv2'",
     "output_type": "error",
     "traceback": [
      "\u001b[1;31m---------------------------------------------------------------------------\u001b[0m",
      "\u001b[1;31mModuleNotFoundError\u001b[0m                       Traceback (most recent call last)",
      "\u001b[1;32m<ipython-input-8-d6d6a21e0ecf>\u001b[0m in \u001b[0;36m<module>\u001b[1;34m\u001b[0m\n\u001b[0;32m      1\u001b[0m \u001b[1;31m#Contrast experiment\u001b[0m\u001b[1;33m\u001b[0m\u001b[1;33m\u001b[0m\u001b[1;33m\u001b[0m\u001b[0m\n\u001b[0;32m      2\u001b[0m \u001b[1;32mfrom\u001b[0m \u001b[0mPIL\u001b[0m \u001b[1;32mimport\u001b[0m \u001b[0mImage\u001b[0m\u001b[1;33m\u001b[0m\u001b[1;33m\u001b[0m\u001b[0m\n\u001b[1;32m----> 3\u001b[1;33m \u001b[1;32mimport\u001b[0m \u001b[0mcv2\u001b[0m\u001b[1;33m\u001b[0m\u001b[1;33m\u001b[0m\u001b[0m\n\u001b[0m\u001b[0;32m      4\u001b[0m \u001b[1;31m# Read image\u001b[0m\u001b[1;33m\u001b[0m\u001b[1;33m\u001b[0m\u001b[1;33m\u001b[0m\u001b[0m\n\u001b[0;32m      5\u001b[0m \u001b[0mimg_o\u001b[0m \u001b[1;33m=\u001b[0m \u001b[0mImage\u001b[0m\u001b[1;33m.\u001b[0m\u001b[0mopen\u001b[0m\u001b[1;33m(\u001b[0m\u001b[1;34m\"Vassily_Kandinsky.jpg\"\u001b[0m\u001b[1;33m)\u001b[0m\u001b[1;33m\u001b[0m\u001b[1;33m\u001b[0m\u001b[0m\n",
      "\u001b[1;31mModuleNotFoundError\u001b[0m: No module named 'cv2'"
     ]
    }
   ],
   "source": [
    "#Contrast experiment\n",
    "from PIL import Image\n",
    "import cv2\n",
    "# Read image\n",
    "img_o = Image.open(\"./Vassily_Kandinsky.jpg\")\n",
    "img_o = img_o.resize((512,512))\n",
    "\n",
    "img = np.array(img_o)\n",
    "img = np.transpose(img,[2,0,1])\n",
    "img = img[np.newaxis,:,:,:]\n",
    "#print(img.shape)\n",
    "\n",
    "#change the contrast\n",
    "img1 = (img - np.min(img))/np.ptp(img)\n",
    "#print(np.min(img1),np.max(img1))\n",
    "\n",
    "img2 = np.square(img1)\n",
    "\n",
    "img3 = np.power(img1,5)\n",
    "\n",
    "\n",
    "img11 = torch.from_numpy(img1)\n",
    "img22 = torch.from_numpy(img2)\n",
    "img33 = torch.from_numpy(img3)\n",
    "img11,img22,img33=img11.type(torch.FloatTensor),img22.type(torch.FloatTensor),img33.type(torch.FloatTensor)\n",
    "\n",
    "#compute perceptural loss\n",
    "l_p1 = loss_fn_vgg(img11,img22)\n",
    "l_p2 = loss_fn_vgg(img11,img33)\n",
    "#compute L2 loss\n",
    "l_m1 = loss(img11,img22)\n",
    "l_m2 = loss(img11,img33)\n",
    "\n",
    "print(l_p1,l_p2)\n",
    "\n",
    "print(l_m1, l_m2)"
   ]
  },
  {
   "cell_type": "code",
   "execution_count": null,
   "metadata": {
    "colab": {
     "base_uri": "https://localhost:8080/",
     "height": 162
    },
    "id": "OqMbfzAyX8Kx",
    "outputId": "fbff5006-af06-4639-e9ba-db9aad9af44f"
   },
   "outputs": [],
   "source": [
    "#plot images\n",
    "import matplotlib.pyplot as plt\n",
    "plt.subplots_adjust(wspace =0.3, hspace =0)\n",
    "plt.subplot(131)\n",
    "plt.imshow(img11[0,:,:,:].permute(1, 2, 0))\n",
    "plt.subplot(132)\n",
    "plt.imshow(img22[0,:,:,:].permute(1, 2, 0))\n",
    "plt.subplot(133)\n",
    "plt.imshow(img33[0,:,:,:].permute(1, 2, 0))"
   ]
  },
  {
   "cell_type": "code",
   "execution_count": null,
   "metadata": {
    "id": "l_rYlXcsX8f9"
   },
   "outputs": [],
   "source": []
  }
 ],
 "metadata": {
  "colab": {
   "name": "Intensity and contrast test.ipynb",
   "provenance": []
  },
  "kernelspec": {
   "display_name": "Python 3",
   "language": "python",
   "name": "python3"
  },
  "language_info": {
   "codemirror_mode": {
    "name": "ipython",
    "version": 3
   },
   "file_extension": ".py",
   "mimetype": "text/x-python",
   "name": "python",
   "nbconvert_exporter": "python",
   "pygments_lexer": "ipython3",
   "version": "3.8.5"
  },
  "widgets": {
   "application/vnd.jupyter.widget-state+json": {
    "0320a7407fc14044bf5b1d10ec711120": {
     "model_module": "@jupyter-widgets/base",
     "model_name": "LayoutModel",
     "state": {
      "_model_module": "@jupyter-widgets/base",
      "_model_module_version": "1.2.0",
      "_model_name": "LayoutModel",
      "_view_count": null,
      "_view_module": "@jupyter-widgets/base",
      "_view_module_version": "1.2.0",
      "_view_name": "LayoutView",
      "align_content": null,
      "align_items": null,
      "align_self": null,
      "border": null,
      "bottom": null,
      "display": null,
      "flex": null,
      "flex_flow": null,
      "grid_area": null,
      "grid_auto_columns": null,
      "grid_auto_flow": null,
      "grid_auto_rows": null,
      "grid_column": null,
      "grid_gap": null,
      "grid_row": null,
      "grid_template_areas": null,
      "grid_template_columns": null,
      "grid_template_rows": null,
      "height": null,
      "justify_content": null,
      "justify_items": null,
      "left": null,
      "margin": null,
      "max_height": null,
      "max_width": null,
      "min_height": null,
      "min_width": null,
      "object_fit": null,
      "object_position": null,
      "order": null,
      "overflow": null,
      "overflow_x": null,
      "overflow_y": null,
      "padding": null,
      "right": null,
      "top": null,
      "visibility": null,
      "width": null
     }
    },
    "2078ced569f5460592651e5b7453b3f7": {
     "model_module": "@jupyter-widgets/base",
     "model_name": "LayoutModel",
     "state": {
      "_model_module": "@jupyter-widgets/base",
      "_model_module_version": "1.2.0",
      "_model_name": "LayoutModel",
      "_view_count": null,
      "_view_module": "@jupyter-widgets/base",
      "_view_module_version": "1.2.0",
      "_view_name": "LayoutView",
      "align_content": null,
      "align_items": null,
      "align_self": null,
      "border": null,
      "bottom": null,
      "display": null,
      "flex": null,
      "flex_flow": null,
      "grid_area": null,
      "grid_auto_columns": null,
      "grid_auto_flow": null,
      "grid_auto_rows": null,
      "grid_column": null,
      "grid_gap": null,
      "grid_row": null,
      "grid_template_areas": null,
      "grid_template_columns": null,
      "grid_template_rows": null,
      "height": null,
      "justify_content": null,
      "justify_items": null,
      "left": null,
      "margin": null,
      "max_height": null,
      "max_width": null,
      "min_height": null,
      "min_width": null,
      "object_fit": null,
      "object_position": null,
      "order": null,
      "overflow": null,
      "overflow_x": null,
      "overflow_y": null,
      "padding": null,
      "right": null,
      "top": null,
      "visibility": null,
      "width": null
     }
    },
    "43ce3a2de2c0438ea2d382a1128c388e": {
     "model_module": "@jupyter-widgets/controls",
     "model_name": "HTMLModel",
     "state": {
      "_dom_classes": [],
      "_model_module": "@jupyter-widgets/controls",
      "_model_module_version": "1.5.0",
      "_model_name": "HTMLModel",
      "_view_count": null,
      "_view_module": "@jupyter-widgets/controls",
      "_view_module_version": "1.5.0",
      "_view_name": "HTMLView",
      "description": "",
      "description_tooltip": null,
      "layout": "IPY_MODEL_2078ced569f5460592651e5b7453b3f7",
      "placeholder": "​",
      "style": "IPY_MODEL_46411c47f9e749508fd0cd5ec7fe8db6",
      "value": " 528M/528M [01:50&lt;00:00, 5.03MB/s]"
     }
    },
    "46411c47f9e749508fd0cd5ec7fe8db6": {
     "model_module": "@jupyter-widgets/controls",
     "model_name": "DescriptionStyleModel",
     "state": {
      "_model_module": "@jupyter-widgets/controls",
      "_model_module_version": "1.5.0",
      "_model_name": "DescriptionStyleModel",
      "_view_count": null,
      "_view_module": "@jupyter-widgets/base",
      "_view_module_version": "1.2.0",
      "_view_name": "StyleView",
      "description_width": ""
     }
    },
    "915d70bf7cdf4bbbbfb4159cebf82c40": {
     "model_module": "@jupyter-widgets/controls",
     "model_name": "HBoxModel",
     "state": {
      "_dom_classes": [],
      "_model_module": "@jupyter-widgets/controls",
      "_model_module_version": "1.5.0",
      "_model_name": "HBoxModel",
      "_view_count": null,
      "_view_module": "@jupyter-widgets/controls",
      "_view_module_version": "1.5.0",
      "_view_name": "HBoxView",
      "box_style": "",
      "children": [
       "IPY_MODEL_f2f003264f2e42669df29d64a6918135",
       "IPY_MODEL_43ce3a2de2c0438ea2d382a1128c388e"
      ],
      "layout": "IPY_MODEL_fefeac13804646979f271708e6154420"
     }
    },
    "97b399c5dbd44cccb24529672e11a8e2": {
     "model_module": "@jupyter-widgets/controls",
     "model_name": "ProgressStyleModel",
     "state": {
      "_model_module": "@jupyter-widgets/controls",
      "_model_module_version": "1.5.0",
      "_model_name": "ProgressStyleModel",
      "_view_count": null,
      "_view_module": "@jupyter-widgets/base",
      "_view_module_version": "1.2.0",
      "_view_name": "StyleView",
      "bar_color": null,
      "description_width": "initial"
     }
    },
    "f2f003264f2e42669df29d64a6918135": {
     "model_module": "@jupyter-widgets/controls",
     "model_name": "FloatProgressModel",
     "state": {
      "_dom_classes": [],
      "_model_module": "@jupyter-widgets/controls",
      "_model_module_version": "1.5.0",
      "_model_name": "FloatProgressModel",
      "_view_count": null,
      "_view_module": "@jupyter-widgets/controls",
      "_view_module_version": "1.5.0",
      "_view_name": "ProgressView",
      "bar_style": "success",
      "description": "100%",
      "description_tooltip": null,
      "layout": "IPY_MODEL_0320a7407fc14044bf5b1d10ec711120",
      "max": 553433881,
      "min": 0,
      "orientation": "horizontal",
      "style": "IPY_MODEL_97b399c5dbd44cccb24529672e11a8e2",
      "value": 553433881
     }
    },
    "fefeac13804646979f271708e6154420": {
     "model_module": "@jupyter-widgets/base",
     "model_name": "LayoutModel",
     "state": {
      "_model_module": "@jupyter-widgets/base",
      "_model_module_version": "1.2.0",
      "_model_name": "LayoutModel",
      "_view_count": null,
      "_view_module": "@jupyter-widgets/base",
      "_view_module_version": "1.2.0",
      "_view_name": "LayoutView",
      "align_content": null,
      "align_items": null,
      "align_self": null,
      "border": null,
      "bottom": null,
      "display": null,
      "flex": null,
      "flex_flow": null,
      "grid_area": null,
      "grid_auto_columns": null,
      "grid_auto_flow": null,
      "grid_auto_rows": null,
      "grid_column": null,
      "grid_gap": null,
      "grid_row": null,
      "grid_template_areas": null,
      "grid_template_columns": null,
      "grid_template_rows": null,
      "height": null,
      "justify_content": null,
      "justify_items": null,
      "left": null,
      "margin": null,
      "max_height": null,
      "max_width": null,
      "min_height": null,
      "min_width": null,
      "object_fit": null,
      "object_position": null,
      "order": null,
      "overflow": null,
      "overflow_x": null,
      "overflow_y": null,
      "padding": null,
      "right": null,
      "top": null,
      "visibility": null,
      "width": null
     }
    }
   }
  }
 },
 "nbformat": 4,
 "nbformat_minor": 1
}
